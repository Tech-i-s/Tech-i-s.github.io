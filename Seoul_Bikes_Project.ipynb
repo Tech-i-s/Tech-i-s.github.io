{
  "nbformat": 4,
  "nbformat_minor": 0,
  "metadata": {
    "colab": {
      "name": "Seoul Bikes Project.ipynb",
      "provenance": [],
      "toc_visible": true,
      "mount_file_id": "1r83-0mXXmo-x3hz8bas70JwM3SGRE06T",
      "authorship_tag": "ABX9TyN5bCIwY3rIWG6am0o32IA5",
      "include_colab_link": true
    },
    "kernelspec": {
      "name": "python3",
      "display_name": "Python 3"
    }
  },
  "cells": [
    {
      "cell_type": "markdown",
      "metadata": {
        "id": "view-in-github",
        "colab_type": "text"
      },
      "source": [
        "<a href=\"https://colab.research.google.com/github/lmkwytnicholas/nicholas-lee.github.io/blob/master/Seoul_Bikes_Project.ipynb\" target=\"_parent\"><img src=\"https://colab.research.google.com/assets/colab-badge.svg\" alt=\"Open In Colab\"/></a>"
      ]
    },
    {
      "cell_type": "markdown",
      "metadata": {
        "id": "bmmgX432X2Gg"
      },
      "source": [
        "# **Seoul Bike Project**\n",
        "\n",
        "* What are the factors that influence the number of bikes rented?\n",
        "* Explore the data for outliers and missing values.\n",
        "* Plot the correlation between the variables and state your comments\n",
        "* Please build a linear regression model to predict rented bike count by choosing appropriate independent variables.\n",
        "* Comment on Model performance by using approapriate diagnostics and measures.\n"
      ]
    },
    {
      "cell_type": "markdown",
      "metadata": {
        "id": "iQJs8eIIftse"
      },
      "source": [
        "# **Import Libraries**"
      ]
    },
    {
      "cell_type": "code",
      "metadata": {
        "id": "shwKc3xZXiYt"
      },
      "source": [
        "import pandas as pd\n",
        "import numpy as np\n",
        "\n",
        "import warnings\n",
        "warnings.filterwarnings('ignore')\n",
        "\n",
        "import seaborn as sns\n",
        "import matplotlib.pyplot as plt\n",
        "%matplotlib inline\n",
        "sns.set(style='dark', color_codes=True)"
      ],
      "execution_count": null,
      "outputs": []
    },
    {
      "cell_type": "code",
      "metadata": {
        "id": "4xhvtxUCgHLB"
      },
      "source": [
        "train = pd.read_csv('/content/drive/MyDrive/Tech I.S./Datasets/Linear Regression/SeoulBikeData.csv')\n",
        "test = pd.read_csv('/content/drive/MyDrive/Tech I.S./Datasets/Linear Regression/SeoulBikeData.csv')\n",
        "# Omit dependent variable, Rented Bike Count, from test dataset\n",
        "test = test.drop('Rented Bike Count', axis=1)\n",
        "# Concatenate all datasets for clean-up\n",
        "data = pd.concat([train,test],ignore_index=True)\n"
      ],
      "execution_count": null,
      "outputs": []
    },
    {
      "cell_type": "code",
      "metadata": {
        "colab": {
          "base_uri": "https://localhost:8080/"
        },
        "id": "Isigu6tigjxL",
        "outputId": "7d6dbc40-91be-4167-b55d-5fa84de75f77"
      },
      "source": [
        "# Print dimensions of dataset\n",
        "print('Dimensions of Seoul Bikes Train Dataset:', train.shape)\n",
        "print('Dimensions of Seoul Bikes Test Dataset:', test.shape)\n",
        "print('Dimensions of Combined Datasets:', data.shape)"
      ],
      "execution_count": null,
      "outputs": [
        {
          "output_type": "stream",
          "text": [
            "Dimensions of Seoul Bikes Train Dataset: (8760, 14)\n",
            "Dimensions of Seoul Bikes Test Dataset: (8760, 13)\n",
            "Dimensions of Combined Datasets: (17520, 14)\n"
          ],
          "name": "stdout"
        }
      ]
    },
    {
      "cell_type": "markdown",
      "metadata": {
        "id": "yMduJkd1g0s0"
      },
      "source": [
        "# **Extract DataFrame for Only Numeric DataTypes**\n",
        "..and summarize"
      ]
    },
    {
      "cell_type": "code",
      "metadata": {
        "colab": {
          "base_uri": "https://localhost:8080/",
          "height": 237
        },
        "id": "M6ONY1rDg0Pq",
        "outputId": "744f636f-9642-486f-c52f-3faa3ddb1ec7"
      },
      "source": [
        "df = data.select_dtypes(include=['float64','int64'])\n",
        "df.head()"
      ],
      "execution_count": null,
      "outputs": [
        {
          "output_type": "execute_result",
          "data": {
            "text/html": [
              "<div>\n",
              "<style scoped>\n",
              "    .dataframe tbody tr th:only-of-type {\n",
              "        vertical-align: middle;\n",
              "    }\n",
              "\n",
              "    .dataframe tbody tr th {\n",
              "        vertical-align: top;\n",
              "    }\n",
              "\n",
              "    .dataframe thead th {\n",
              "        text-align: right;\n",
              "    }\n",
              "</style>\n",
              "<table border=\"1\" class=\"dataframe\">\n",
              "  <thead>\n",
              "    <tr style=\"text-align: right;\">\n",
              "      <th></th>\n",
              "      <th>Rented Bike Count</th>\n",
              "      <th>Hour</th>\n",
              "      <th>Temperature(C)</th>\n",
              "      <th>Humidity(%)</th>\n",
              "      <th>Wind speed (m/s)</th>\n",
              "      <th>Visibility (10m)</th>\n",
              "      <th>Dew point temperature(C)</th>\n",
              "      <th>Solar Radiation (MJ/m2)</th>\n",
              "      <th>Rainfall(mm)</th>\n",
              "      <th>Snowfall (cm)</th>\n",
              "    </tr>\n",
              "  </thead>\n",
              "  <tbody>\n",
              "    <tr>\n",
              "      <th>0</th>\n",
              "      <td>254.0</td>\n",
              "      <td>0</td>\n",
              "      <td>-5.2</td>\n",
              "      <td>37</td>\n",
              "      <td>2.2</td>\n",
              "      <td>2000</td>\n",
              "      <td>-17.6</td>\n",
              "      <td>0.0</td>\n",
              "      <td>0.0</td>\n",
              "      <td>0.0</td>\n",
              "    </tr>\n",
              "    <tr>\n",
              "      <th>1</th>\n",
              "      <td>204.0</td>\n",
              "      <td>1</td>\n",
              "      <td>-5.5</td>\n",
              "      <td>38</td>\n",
              "      <td>0.8</td>\n",
              "      <td>2000</td>\n",
              "      <td>-17.6</td>\n",
              "      <td>0.0</td>\n",
              "      <td>0.0</td>\n",
              "      <td>0.0</td>\n",
              "    </tr>\n",
              "    <tr>\n",
              "      <th>2</th>\n",
              "      <td>173.0</td>\n",
              "      <td>2</td>\n",
              "      <td>-6.0</td>\n",
              "      <td>39</td>\n",
              "      <td>1.0</td>\n",
              "      <td>2000</td>\n",
              "      <td>-17.7</td>\n",
              "      <td>0.0</td>\n",
              "      <td>0.0</td>\n",
              "      <td>0.0</td>\n",
              "    </tr>\n",
              "    <tr>\n",
              "      <th>3</th>\n",
              "      <td>107.0</td>\n",
              "      <td>3</td>\n",
              "      <td>-6.2</td>\n",
              "      <td>40</td>\n",
              "      <td>0.9</td>\n",
              "      <td>2000</td>\n",
              "      <td>-17.6</td>\n",
              "      <td>0.0</td>\n",
              "      <td>0.0</td>\n",
              "      <td>0.0</td>\n",
              "    </tr>\n",
              "    <tr>\n",
              "      <th>4</th>\n",
              "      <td>78.0</td>\n",
              "      <td>4</td>\n",
              "      <td>-6.0</td>\n",
              "      <td>36</td>\n",
              "      <td>2.3</td>\n",
              "      <td>2000</td>\n",
              "      <td>-18.6</td>\n",
              "      <td>0.0</td>\n",
              "      <td>0.0</td>\n",
              "      <td>0.0</td>\n",
              "    </tr>\n",
              "  </tbody>\n",
              "</table>\n",
              "</div>"
            ],
            "text/plain": [
              "   Rented Bike Count  Hour  ...  Rainfall(mm)  Snowfall (cm)\n",
              "0              254.0     0  ...           0.0            0.0\n",
              "1              204.0     1  ...           0.0            0.0\n",
              "2              173.0     2  ...           0.0            0.0\n",
              "3              107.0     3  ...           0.0            0.0\n",
              "4               78.0     4  ...           0.0            0.0\n",
              "\n",
              "[5 rows x 10 columns]"
            ]
          },
          "metadata": {
            "tags": []
          },
          "execution_count": 4
        }
      ]
    },
    {
      "cell_type": "code",
      "metadata": {
        "colab": {
          "base_uri": "https://localhost:8080/"
        },
        "id": "0V4aCR2thOyD",
        "outputId": "afdd99f5-1d00-4276-dc5e-4c760fbbcee6"
      },
      "source": [
        "df.info()"
      ],
      "execution_count": null,
      "outputs": [
        {
          "output_type": "stream",
          "text": [
            "<class 'pandas.core.frame.DataFrame'>\n",
            "RangeIndex: 17520 entries, 0 to 17519\n",
            "Data columns (total 10 columns):\n",
            " #   Column                    Non-Null Count  Dtype  \n",
            "---  ------                    --------------  -----  \n",
            " 0   Rented Bike Count         8760 non-null   float64\n",
            " 1   Hour                      17520 non-null  int64  \n",
            " 2   Temperature(C)            17520 non-null  float64\n",
            " 3   Humidity(%)               17520 non-null  int64  \n",
            " 4   Wind speed (m/s)          17520 non-null  float64\n",
            " 5   Visibility (10m)          17520 non-null  int64  \n",
            " 6   Dew point temperature(C)  17520 non-null  float64\n",
            " 7   Solar Radiation (MJ/m2)   17520 non-null  float64\n",
            " 8   Rainfall(mm)              17520 non-null  float64\n",
            " 9   Snowfall (cm)             17520 non-null  float64\n",
            "dtypes: float64(7), int64(3)\n",
            "memory usage: 1.3 MB\n"
          ],
          "name": "stdout"
        }
      ]
    },
    {
      "cell_type": "code",
      "metadata": {
        "id": "Mu38b-40QsT1"
      },
      "source": [
        "# df.columns\n",
        "columns = ['Rented Bike Count', 'Hour', 'Temperature(C)', 'Humidity(%)','Wind speed (m/s)', 'Visibility (10m)', 'Dew point temperature(C)','Solar Radiation (MJ/m2)', 'Rainfall(mm)', 'Snowfall (cm)']\n",
        "for column in columns:\n",
        "  df[column] = df[column].fillna(df[column].mean())"
      ],
      "execution_count": null,
      "outputs": []
    },
    {
      "cell_type": "code",
      "metadata": {
        "colab": {
          "base_uri": "https://localhost:8080/",
          "height": 349
        },
        "id": "_9zlDVFbhSmh",
        "outputId": "9c2cb4a0-a316-46a2-f3fa-b2032b47e10d"
      },
      "source": [
        "# Descriptive Statistics\n",
        "df.describe()"
      ],
      "execution_count": null,
      "outputs": [
        {
          "output_type": "execute_result",
          "data": {
            "text/html": [
              "<div>\n",
              "<style scoped>\n",
              "    .dataframe tbody tr th:only-of-type {\n",
              "        vertical-align: middle;\n",
              "    }\n",
              "\n",
              "    .dataframe tbody tr th {\n",
              "        vertical-align: top;\n",
              "    }\n",
              "\n",
              "    .dataframe thead th {\n",
              "        text-align: right;\n",
              "    }\n",
              "</style>\n",
              "<table border=\"1\" class=\"dataframe\">\n",
              "  <thead>\n",
              "    <tr style=\"text-align: right;\">\n",
              "      <th></th>\n",
              "      <th>Rented Bike Count</th>\n",
              "      <th>Hour</th>\n",
              "      <th>Temperature(C)</th>\n",
              "      <th>Humidity(%)</th>\n",
              "      <th>Wind speed (m/s)</th>\n",
              "      <th>Visibility (10m)</th>\n",
              "      <th>Dew point temperature(C)</th>\n",
              "      <th>Solar Radiation (MJ/m2)</th>\n",
              "      <th>Rainfall(mm)</th>\n",
              "      <th>Snowfall (cm)</th>\n",
              "    </tr>\n",
              "  </thead>\n",
              "  <tbody>\n",
              "    <tr>\n",
              "      <th>count</th>\n",
              "      <td>17520.000000</td>\n",
              "      <td>17520.000000</td>\n",
              "      <td>17520.000000</td>\n",
              "      <td>17520.000000</td>\n",
              "      <td>17520.000000</td>\n",
              "      <td>17520.000000</td>\n",
              "      <td>17520.000000</td>\n",
              "      <td>17520.000000</td>\n",
              "      <td>17520.000000</td>\n",
              "      <td>17520.000000</td>\n",
              "    </tr>\n",
              "    <tr>\n",
              "      <th>mean</th>\n",
              "      <td>704.602055</td>\n",
              "      <td>11.500000</td>\n",
              "      <td>12.882922</td>\n",
              "      <td>58.226256</td>\n",
              "      <td>1.724909</td>\n",
              "      <td>1436.825799</td>\n",
              "      <td>4.073813</td>\n",
              "      <td>0.569111</td>\n",
              "      <td>0.148687</td>\n",
              "      <td>0.075068</td>\n",
              "    </tr>\n",
              "    <tr>\n",
              "      <th>std</th>\n",
              "      <td>456.069066</td>\n",
              "      <td>6.922384</td>\n",
              "      <td>11.944484</td>\n",
              "      <td>20.361832</td>\n",
              "      <td>1.036270</td>\n",
              "      <td>608.281351</td>\n",
              "      <td>13.059997</td>\n",
              "      <td>0.868721</td>\n",
              "      <td>1.128161</td>\n",
              "      <td>0.436734</td>\n",
              "    </tr>\n",
              "    <tr>\n",
              "      <th>min</th>\n",
              "      <td>0.000000</td>\n",
              "      <td>0.000000</td>\n",
              "      <td>-17.800000</td>\n",
              "      <td>0.000000</td>\n",
              "      <td>0.000000</td>\n",
              "      <td>27.000000</td>\n",
              "      <td>-30.600000</td>\n",
              "      <td>0.000000</td>\n",
              "      <td>0.000000</td>\n",
              "      <td>0.000000</td>\n",
              "    </tr>\n",
              "    <tr>\n",
              "      <th>25%</th>\n",
              "      <td>504.750000</td>\n",
              "      <td>5.750000</td>\n",
              "      <td>3.500000</td>\n",
              "      <td>42.000000</td>\n",
              "      <td>0.900000</td>\n",
              "      <td>940.000000</td>\n",
              "      <td>-4.700000</td>\n",
              "      <td>0.000000</td>\n",
              "      <td>0.000000</td>\n",
              "      <td>0.000000</td>\n",
              "    </tr>\n",
              "    <tr>\n",
              "      <th>50%</th>\n",
              "      <td>704.602055</td>\n",
              "      <td>11.500000</td>\n",
              "      <td>13.700000</td>\n",
              "      <td>57.000000</td>\n",
              "      <td>1.500000</td>\n",
              "      <td>1698.000000</td>\n",
              "      <td>5.100000</td>\n",
              "      <td>0.010000</td>\n",
              "      <td>0.000000</td>\n",
              "      <td>0.000000</td>\n",
              "    </tr>\n",
              "    <tr>\n",
              "      <th>75%</th>\n",
              "      <td>704.602055</td>\n",
              "      <td>17.250000</td>\n",
              "      <td>22.500000</td>\n",
              "      <td>74.000000</td>\n",
              "      <td>2.300000</td>\n",
              "      <td>2000.000000</td>\n",
              "      <td>14.800000</td>\n",
              "      <td>0.930000</td>\n",
              "      <td>0.000000</td>\n",
              "      <td>0.000000</td>\n",
              "    </tr>\n",
              "    <tr>\n",
              "      <th>max</th>\n",
              "      <td>3556.000000</td>\n",
              "      <td>23.000000</td>\n",
              "      <td>39.400000</td>\n",
              "      <td>98.000000</td>\n",
              "      <td>7.400000</td>\n",
              "      <td>2000.000000</td>\n",
              "      <td>27.200000</td>\n",
              "      <td>3.520000</td>\n",
              "      <td>35.000000</td>\n",
              "      <td>8.800000</td>\n",
              "    </tr>\n",
              "  </tbody>\n",
              "</table>\n",
              "</div>"
            ],
            "text/plain": [
              "       Rented Bike Count          Hour  ...  Rainfall(mm)  Snowfall (cm)\n",
              "count       17520.000000  17520.000000  ...  17520.000000   17520.000000\n",
              "mean          704.602055     11.500000  ...      0.148687       0.075068\n",
              "std           456.069066      6.922384  ...      1.128161       0.436734\n",
              "min             0.000000      0.000000  ...      0.000000       0.000000\n",
              "25%           504.750000      5.750000  ...      0.000000       0.000000\n",
              "50%           704.602055     11.500000  ...      0.000000       0.000000\n",
              "75%           704.602055     17.250000  ...      0.000000       0.000000\n",
              "max          3556.000000     23.000000  ...     35.000000       8.800000\n",
              "\n",
              "[8 rows x 10 columns]"
            ]
          },
          "metadata": {
            "tags": []
          },
          "execution_count": 7
        }
      ]
    },
    {
      "cell_type": "markdown",
      "metadata": {
        "id": "ybb-vGavhZJr"
      },
      "source": [
        "# **Manage for Missing Values**"
      ]
    },
    {
      "cell_type": "code",
      "metadata": {
        "colab": {
          "base_uri": "https://localhost:8080/"
        },
        "id": "28CgWh4PhYh_",
        "outputId": "a228e91c-8ad8-46e0-a059-a81f3c512834"
      },
      "source": [
        "na_df = df.isna().sum()\n",
        "na_df"
      ],
      "execution_count": null,
      "outputs": [
        {
          "output_type": "execute_result",
          "data": {
            "text/plain": [
              "Rented Bike Count           0\n",
              "Hour                        0\n",
              "Temperature(C)              0\n",
              "Humidity(%)                 0\n",
              "Wind speed (m/s)            0\n",
              "Visibility (10m)            0\n",
              "Dew point temperature(C)    0\n",
              "Solar Radiation (MJ/m2)     0\n",
              "Rainfall(mm)                0\n",
              "Snowfall (cm)               0\n",
              "dtype: int64"
            ]
          },
          "metadata": {
            "tags": []
          },
          "execution_count": 8
        }
      ]
    },
    {
      "cell_type": "markdown",
      "metadata": {
        "id": "kPTXRZa7hoE4"
      },
      "source": [
        "# **Construct Correlation Matrix**"
      ]
    },
    {
      "cell_type": "code",
      "metadata": {
        "id": "5oIFlUlVj548"
      },
      "source": [
        "df = pd.DataFrame(df)"
      ],
      "execution_count": null,
      "outputs": []
    },
    {
      "cell_type": "code",
      "metadata": {
        "colab": {
          "base_uri": "https://localhost:8080/",
          "height": 480
        },
        "id": "dPOiLyeXhsTQ",
        "outputId": "46573137-d079-41c3-b055-68495a07523e"
      },
      "source": [
        "df_corr = df.corr()\n",
        "# type(df_corr)\n",
        "df.corr()"
      ],
      "execution_count": null,
      "outputs": [
        {
          "output_type": "execute_result",
          "data": {
            "text/html": [
              "<div>\n",
              "<style scoped>\n",
              "    .dataframe tbody tr th:only-of-type {\n",
              "        vertical-align: middle;\n",
              "    }\n",
              "\n",
              "    .dataframe tbody tr th {\n",
              "        vertical-align: top;\n",
              "    }\n",
              "\n",
              "    .dataframe thead th {\n",
              "        text-align: right;\n",
              "    }\n",
              "</style>\n",
              "<table border=\"1\" class=\"dataframe\">\n",
              "  <thead>\n",
              "    <tr style=\"text-align: right;\">\n",
              "      <th></th>\n",
              "      <th>Rented Bike Count</th>\n",
              "      <th>Hour</th>\n",
              "      <th>Temperature(C)</th>\n",
              "      <th>Humidity(%)</th>\n",
              "      <th>Wind speed (m/s)</th>\n",
              "      <th>Visibility (10m)</th>\n",
              "      <th>Dew point temperature(C)</th>\n",
              "      <th>Solar Radiation (MJ/m2)</th>\n",
              "      <th>Rainfall(mm)</th>\n",
              "      <th>Snowfall (cm)</th>\n",
              "    </tr>\n",
              "  </thead>\n",
              "  <tbody>\n",
              "    <tr>\n",
              "      <th>Rented Bike Count</th>\n",
              "      <td>1.000000</td>\n",
              "      <td>0.290096</td>\n",
              "      <td>0.380818</td>\n",
              "      <td>-0.141266</td>\n",
              "      <td>0.085637</td>\n",
              "      <td>0.140912</td>\n",
              "      <td>0.268551</td>\n",
              "      <td>0.185147</td>\n",
              "      <td>-0.087026</td>\n",
              "      <td>-0.100270</td>\n",
              "    </tr>\n",
              "    <tr>\n",
              "      <th>Hour</th>\n",
              "      <td>0.290096</td>\n",
              "      <td>1.000000</td>\n",
              "      <td>0.124114</td>\n",
              "      <td>-0.241644</td>\n",
              "      <td>0.285197</td>\n",
              "      <td>0.098753</td>\n",
              "      <td>0.003054</td>\n",
              "      <td>0.145131</td>\n",
              "      <td>0.008715</td>\n",
              "      <td>-0.021516</td>\n",
              "    </tr>\n",
              "    <tr>\n",
              "      <th>Temperature(C)</th>\n",
              "      <td>0.380818</td>\n",
              "      <td>0.124114</td>\n",
              "      <td>1.000000</td>\n",
              "      <td>0.159371</td>\n",
              "      <td>-0.036252</td>\n",
              "      <td>0.034794</td>\n",
              "      <td>0.912798</td>\n",
              "      <td>0.353505</td>\n",
              "      <td>0.050282</td>\n",
              "      <td>-0.218405</td>\n",
              "    </tr>\n",
              "    <tr>\n",
              "      <th>Humidity(%)</th>\n",
              "      <td>-0.141266</td>\n",
              "      <td>-0.241644</td>\n",
              "      <td>0.159371</td>\n",
              "      <td>1.000000</td>\n",
              "      <td>-0.336683</td>\n",
              "      <td>-0.543090</td>\n",
              "      <td>0.536894</td>\n",
              "      <td>-0.461919</td>\n",
              "      <td>0.236397</td>\n",
              "      <td>0.108183</td>\n",
              "    </tr>\n",
              "    <tr>\n",
              "      <th>Wind speed (m/s)</th>\n",
              "      <td>0.085637</td>\n",
              "      <td>0.285197</td>\n",
              "      <td>-0.036252</td>\n",
              "      <td>-0.336683</td>\n",
              "      <td>1.000000</td>\n",
              "      <td>0.171507</td>\n",
              "      <td>-0.176486</td>\n",
              "      <td>0.332274</td>\n",
              "      <td>-0.019674</td>\n",
              "      <td>-0.003554</td>\n",
              "    </tr>\n",
              "    <tr>\n",
              "      <th>Visibility (10m)</th>\n",
              "      <td>0.140912</td>\n",
              "      <td>0.098753</td>\n",
              "      <td>0.034794</td>\n",
              "      <td>-0.543090</td>\n",
              "      <td>0.171507</td>\n",
              "      <td>1.000000</td>\n",
              "      <td>-0.176630</td>\n",
              "      <td>0.149738</td>\n",
              "      <td>-0.167629</td>\n",
              "      <td>-0.121695</td>\n",
              "    </tr>\n",
              "    <tr>\n",
              "      <th>Dew point temperature(C)</th>\n",
              "      <td>0.268551</td>\n",
              "      <td>0.003054</td>\n",
              "      <td>0.912798</td>\n",
              "      <td>0.536894</td>\n",
              "      <td>-0.176486</td>\n",
              "      <td>-0.176630</td>\n",
              "      <td>1.000000</td>\n",
              "      <td>0.094381</td>\n",
              "      <td>0.125597</td>\n",
              "      <td>-0.150887</td>\n",
              "    </tr>\n",
              "    <tr>\n",
              "      <th>Solar Radiation (MJ/m2)</th>\n",
              "      <td>0.185147</td>\n",
              "      <td>0.145131</td>\n",
              "      <td>0.353505</td>\n",
              "      <td>-0.461919</td>\n",
              "      <td>0.332274</td>\n",
              "      <td>0.149738</td>\n",
              "      <td>0.094381</td>\n",
              "      <td>1.000000</td>\n",
              "      <td>-0.074290</td>\n",
              "      <td>-0.072301</td>\n",
              "    </tr>\n",
              "    <tr>\n",
              "      <th>Rainfall(mm)</th>\n",
              "      <td>-0.087026</td>\n",
              "      <td>0.008715</td>\n",
              "      <td>0.050282</td>\n",
              "      <td>0.236397</td>\n",
              "      <td>-0.019674</td>\n",
              "      <td>-0.167629</td>\n",
              "      <td>0.125597</td>\n",
              "      <td>-0.074290</td>\n",
              "      <td>1.000000</td>\n",
              "      <td>0.008500</td>\n",
              "    </tr>\n",
              "    <tr>\n",
              "      <th>Snowfall (cm)</th>\n",
              "      <td>-0.100270</td>\n",
              "      <td>-0.021516</td>\n",
              "      <td>-0.218405</td>\n",
              "      <td>0.108183</td>\n",
              "      <td>-0.003554</td>\n",
              "      <td>-0.121695</td>\n",
              "      <td>-0.150887</td>\n",
              "      <td>-0.072301</td>\n",
              "      <td>0.008500</td>\n",
              "      <td>1.000000</td>\n",
              "    </tr>\n",
              "  </tbody>\n",
              "</table>\n",
              "</div>"
            ],
            "text/plain": [
              "                          Rented Bike Count  ...  Snowfall (cm)\n",
              "Rented Bike Count                  1.000000  ...      -0.100270\n",
              "Hour                               0.290096  ...      -0.021516\n",
              "Temperature(C)                     0.380818  ...      -0.218405\n",
              "Humidity(%)                       -0.141266  ...       0.108183\n",
              "Wind speed (m/s)                   0.085637  ...      -0.003554\n",
              "Visibility (10m)                   0.140912  ...      -0.121695\n",
              "Dew point temperature(C)           0.268551  ...      -0.150887\n",
              "Solar Radiation (MJ/m2)            0.185147  ...      -0.072301\n",
              "Rainfall(mm)                      -0.087026  ...       0.008500\n",
              "Snowfall (cm)                     -0.100270  ...       1.000000\n",
              "\n",
              "[10 rows x 10 columns]"
            ]
          },
          "metadata": {
            "tags": []
          },
          "execution_count": 10
        }
      ]
    },
    {
      "cell_type": "markdown",
      "metadata": {
        "id": "vwT3C2YwkN-d"
      },
      "source": [
        "# **Extract Strongly Correlated Values**"
      ]
    },
    {
      "cell_type": "code",
      "metadata": {
        "colab": {
          "base_uri": "https://localhost:8080/"
        },
        "id": "e8h3IHnNkSuz",
        "outputId": "66778e2a-0304-47bd-f940-132771a4950f"
      },
      "source": [
        "# type(df_corr)\n",
        "df_corr = df_corr['Rented Bike Count'][:-1]\n",
        "df_corr[abs(df_corr)>=0.60].sort_values(ascending=False)\n",
        "df_corr"
      ],
      "execution_count": null,
      "outputs": [
        {
          "output_type": "execute_result",
          "data": {
            "text/plain": [
              "Rented Bike Count           1.000000\n",
              "Hour                        0.290096\n",
              "Temperature(C)              0.380818\n",
              "Humidity(%)                -0.141266\n",
              "Wind speed (m/s)            0.085637\n",
              "Visibility (10m)            0.140912\n",
              "Dew point temperature(C)    0.268551\n",
              "Solar Radiation (MJ/m2)     0.185147\n",
              "Rainfall(mm)               -0.087026\n",
              "Name: Rented Bike Count, dtype: float64"
            ]
          },
          "metadata": {
            "tags": []
          },
          "execution_count": 11
        }
      ]
    },
    {
      "cell_type": "markdown",
      "metadata": {
        "id": "6KKeH099zq2p"
      },
      "source": [
        "# **Plot Correlation Matrix**"
      ]
    },
    {
      "cell_type": "code",
      "metadata": {
        "colab": {
          "base_uri": "https://localhost:8080/",
          "height": 586
        },
        "id": "uvKBbAHaztdg",
        "outputId": "e26c5b7e-6d7c-4f90-88c8-6f470738b4b7"
      },
      "source": [
        "df_corr = df.corr()\n",
        "plt.figure(figsize=[8,8])\n",
        "sns.heatmap(df_corr,annot=True,cmap='cubehelix_r',square=True)\n",
        "plt.show()"
      ],
      "execution_count": null,
      "outputs": [
        {
          "output_type": "display_data",
          "data": {
            "image/png": "[encoded data removed]",
            "text/plain": [
              "<Figure size 576x576 with 2 Axes>"
            ]
          },
          "metadata": {
            "tags": [],
            "needs_background": "light"
          }
        }
      ]
    },
    {
      "cell_type": "code",
      "metadata": {
        "colab": {
          "base_uri": "https://localhost:8080/"
        },
        "id": "4MUi8yopJB6l",
        "outputId": "80edcb5d-c887-4c0e-9fe5-d7a70ed1076d"
      },
      "source": [
        "df.columns"
      ],
      "execution_count": null,
      "outputs": [
        {
          "output_type": "execute_result",
          "data": {
            "text/plain": [
              "Index(['Rented Bike Count', 'Hour', 'Temperature(C)', 'Humidity(%)',\n",
              "       'Wind speed (m/s)', 'Visibility (10m)', 'Dew point temperature(C)',\n",
              "       'Solar Radiation (MJ/m2)', 'Rainfall(mm)', 'Snowfall (cm)'],\n",
              "      dtype='object')"
            ]
          },
          "metadata": {
            "tags": []
          },
          "execution_count": 13
        }
      ]
    },
    {
      "cell_type": "markdown",
      "metadata": {
        "id": "BzR9LvM70syW"
      },
      "source": [
        "# **Train Test Split**"
      ]
    },
    {
      "cell_type": "code",
      "metadata": {
        "id": "iTGYrHTWDwBh"
      },
      "source": [
        "# # df_train.columns\n",
        "df_train = df[['Rented Bike Count', 'Hour', 'Temperature(C)','Dew point temperature(C)']]\n",
        "df_test = df[[ 'Hour', 'Temperature(C)','Dew point temperature(C)']]\n"
      ],
      "execution_count": null,
      "outputs": []
    },
    {
      "cell_type": "code",
      "metadata": {
        "colab": {
          "base_uri": "https://localhost:8080/",
          "height": 34
        },
        "id": "JzX56RCU2yIT",
        "outputId": "351a84fa-719f-48a6-cb8e-da4e288d2517"
      },
      "source": [
        "'''df_train = df[['Hour', 'Temperature(C)', 'Dew point temperature(C)']]\n",
        "df_test = df[['Rented Bike Count']]'''\n",
        "\n",
        "# from sklearn.model_selection import train_test_split\n",
        "# train,val = train_test_split(df_train,df_test,test_size=0.25)"
      ],
      "execution_count": null,
      "outputs": [
        {
          "output_type": "execute_result",
          "data": {
            "application/vnd.google.colaboratory.intrinsic+json": {
              "type": "string"
            },
            "text/plain": [
              "\"df_train = df[['Hour', 'Temperature(C)', 'Dew point temperature(C)']]\\ndf_test = df[['Rented Bike Count']]\""
            ]
          },
          "metadata": {
            "tags": []
          },
          "execution_count": 15
        }
      ]
    },
    {
      "cell_type": "code",
      "metadata": {
        "colab": {
          "base_uri": "https://localhost:8080/"
        },
        "id": "2wGepw54I3sN",
        "outputId": "aa422825-f037-4b43-a806-13b926d80b88"
      },
      "source": [
        "df_train.columns"
      ],
      "execution_count": null,
      "outputs": [
        {
          "output_type": "execute_result",
          "data": {
            "text/plain": [
              "Index(['Rented Bike Count', 'Hour', 'Temperature(C)',\n",
              "       'Dew point temperature(C)'],\n",
              "      dtype='object')"
            ]
          },
          "metadata": {
            "tags": []
          },
          "execution_count": 16
        }
      ]
    },
    {
      "cell_type": "code",
      "metadata": {
        "colab": {
          "base_uri": "https://localhost:8080/"
        },
        "id": "Pl6sVrK3Incz",
        "outputId": "17f5d657-9431-4e0a-d27b-8bc9dc504a1a"
      },
      "source": [
        "df_test.columns"
      ],
      "execution_count": null,
      "outputs": [
        {
          "output_type": "execute_result",
          "data": {
            "text/plain": [
              "Index(['Hour', 'Temperature(C)', 'Dew point temperature(C)'], dtype='object')"
            ]
          },
          "metadata": {
            "tags": []
          },
          "execution_count": 17
        }
      ]
    },
    {
      "cell_type": "markdown",
      "metadata": {
        "id": "7IN40TFkCq-4"
      },
      "source": [
        "# **Construct Correlation Matrix**"
      ]
    },
    {
      "cell_type": "code",
      "metadata": {
        "id": "sNl7pgs4Co9D"
      },
      "source": [
        "data_corr = df_train.corr()"
      ],
      "execution_count": null,
      "outputs": []
    },
    {
      "cell_type": "markdown",
      "metadata": {
        "id": "JrTXAECxDKOh"
      },
      "source": [
        "# **Extract Strongly Correlated Features**"
      ]
    },
    {
      "cell_type": "code",
      "metadata": {
        "colab": {
          "base_uri": "https://localhost:8080/"
        },
        "id": "4nIjfWTVDOqa",
        "outputId": "82e2bf7c-c4a7-4ccb-c0f5-3c6967ca6e6f"
      },
      "source": [
        " data_corr = data_corr['Rented Bike Count'][:-1]\n",
        " data_corr[abs(data_corr)>=0.30].sort_values(ascending=False)"
      ],
      "execution_count": null,
      "outputs": [
        {
          "output_type": "execute_result",
          "data": {
            "text/plain": [
              "Rented Bike Count    1.000000\n",
              "Temperature(C)       0.380818\n",
              "Name: Rented Bike Count, dtype: float64"
            ]
          },
          "metadata": {
            "tags": []
          },
          "execution_count": 19
        }
      ]
    },
    {
      "cell_type": "markdown",
      "metadata": {
        "id": "AsAD9Gy-Ew8X"
      },
      "source": [
        "# **Plot Correlation Matrix**"
      ]
    },
    {
      "cell_type": "code",
      "metadata": {
        "colab": {
          "base_uri": "https://localhost:8080/",
          "height": 586
        },
        "id": "jgoIBjiGEzM1",
        "outputId": "5a618f07-c020-4d97-e2c5-0dedd9688622"
      },
      "source": [
        "corr = df_train.corr()\n",
        "plt.figure(figsize=[8,8])\n",
        "sns.heatmap(corr,annot=True,cmap='cubehelix_r',square=True)\n",
        "plt.show()"
      ],
      "execution_count": null,
      "outputs": [
        {
          "output_type": "display_data",
          "data": {
            "image/png": "[encoded data removed]",
            "text/plain": [
              "<Figure size 576x576 with 2 Axes>"
            ]
          },
          "metadata": {
            "tags": [],
            "needs_background": "light"
          }
        }
      ]
    },
    {
      "cell_type": "code",
      "metadata": {
        "colab": {
          "base_uri": "https://localhost:8080/"
        },
        "id": "rFNa9kd8Kg-u",
        "outputId": "22cc8593-d204-461d-b54f-a5d53c5a281e"
      },
      "source": [
        "df_train.columns"
      ],
      "execution_count": null,
      "outputs": [
        {
          "output_type": "execute_result",
          "data": {
            "text/plain": [
              "Index(['Rented Bike Count', 'Hour', 'Temperature(C)',\n",
              "       'Dew point temperature(C)'],\n",
              "      dtype='object')"
            ]
          },
          "metadata": {
            "tags": []
          },
          "execution_count": 21
        }
      ]
    },
    {
      "cell_type": "code",
      "metadata": {
        "colab": {
          "base_uri": "https://localhost:8080/"
        },
        "id": "FWZg9NKgK7Jp",
        "outputId": "d1ffb014-11d7-43c6-a6ca-194c0199ed7f"
      },
      "source": [
        "df_test.columns"
      ],
      "execution_count": null,
      "outputs": [
        {
          "output_type": "execute_result",
          "data": {
            "text/plain": [
              "Index(['Hour', 'Temperature(C)', 'Dew point temperature(C)'], dtype='object')"
            ]
          },
          "metadata": {
            "tags": []
          },
          "execution_count": 22
        }
      ]
    },
    {
      "cell_type": "markdown",
      "metadata": {
        "id": "Roq-BndcFIi2"
      },
      "source": [
        "# **Train Test Split**"
      ]
    },
    {
      "cell_type": "code",
      "metadata": {
        "id": "9amZU2AkFK57"
      },
      "source": [
        "from sklearn.model_selection import train_test_split\n",
        "train,val = train_test_split(df_train,test_size=0.25)"
      ],
      "execution_count": null,
      "outputs": []
    },
    {
      "cell_type": "code",
      "metadata": {
        "colab": {
          "base_uri": "https://localhost:8080/"
        },
        "id": "vbzj7wggFY_M",
        "outputId": "edf725b2-a3d9-4add-c93e-9699009896d2"
      },
      "source": [
        "train_x = train.drop(['Rented Bike Count'],axis=1)\n",
        "train_y = train['Rented Bike Count']\n",
        "\n",
        "val_x = val.drop(['Rented Bike Count'],axis=1)\n",
        "val_y = val['Rented Bike Count']\n",
        "\n",
        "print('Dimension of train_x:',train_x.shape)\n",
        "print('Dimension of train_y:',train_y.shape)\n",
        "print('Dimension of val_x:',val_x.shape)\n",
        "print('Dimension of val_y:',val_y.shape)"
      ],
      "execution_count": null,
      "outputs": [
        {
          "output_type": "stream",
          "text": [
            "Dimension of train_x: (13140, 3)\n",
            "Dimension of train_y: (13140,)\n",
            "Dimension of val_x: (4380, 3)\n",
            "Dimension of val_y: (4380,)\n"
          ],
          "name": "stdout"
        }
      ]
    },
    {
      "cell_type": "code",
      "metadata": {
        "colab": {
          "base_uri": "https://localhost:8080/"
        },
        "id": "aMS5GoXzNMNX",
        "outputId": "ec45bf2c-e5d6-4f4f-abce-3719daeec285"
      },
      "source": [
        "train_x.isnull().sum()"
      ],
      "execution_count": null,
      "outputs": [
        {
          "output_type": "execute_result",
          "data": {
            "text/plain": [
              "Hour                        0\n",
              "Temperature(C)              0\n",
              "Dew point temperature(C)    0\n",
              "dtype: int64"
            ]
          },
          "metadata": {
            "tags": []
          },
          "execution_count": 25
        }
      ]
    },
    {
      "cell_type": "code",
      "metadata": {
        "colab": {
          "base_uri": "https://localhost:8080/"
        },
        "id": "39NDkNzvNvDb",
        "outputId": "05f451b2-b03f-45f5-c5ee-c0199d3e4d61"
      },
      "source": [
        "train_x.dtypes"
      ],
      "execution_count": null,
      "outputs": [
        {
          "output_type": "execute_result",
          "data": {
            "text/plain": [
              "Hour                          int64\n",
              "Temperature(C)              float64\n",
              "Dew point temperature(C)    float64\n",
              "dtype: object"
            ]
          },
          "metadata": {
            "tags": []
          },
          "execution_count": 26
        }
      ]
    },
    {
      "cell_type": "code",
      "metadata": {
        "colab": {
          "base_uri": "https://localhost:8080/"
        },
        "id": "gVy13AW1N9jG",
        "outputId": "e6226aa7-7a06-4409-d3ba-eed68df2bb7a"
      },
      "source": [
        "train_y.dtypes"
      ],
      "execution_count": null,
      "outputs": [
        {
          "output_type": "execute_result",
          "data": {
            "text/plain": [
              "dtype('float64')"
            ]
          },
          "metadata": {
            "tags": []
          },
          "execution_count": 27
        }
      ]
    },
    {
      "cell_type": "markdown",
      "metadata": {
        "id": "Hq2f0Jy0GDRl"
      },
      "source": [
        "# **Linear Regression**\n"
      ]
    },
    {
      "cell_type": "markdown",
      "metadata": {
        "id": "1XuB-oWtGm0p"
      },
      "source": [
        "## **Linear Fit for Training Datasets**"
      ]
    },
    {
      "cell_type": "code",
      "metadata": {
        "id": "mL5X9guAGHJj"
      },
      "source": [
        "from sklearn.linear_model import LinearRegression\n",
        "ln_reg = LinearRegression()\n",
        "model=ln_reg.fit(train_x,train_y)"
      ],
      "execution_count": null,
      "outputs": []
    },
    {
      "cell_type": "markdown",
      "metadata": {
        "id": "Kia2gMoKGkVc"
      },
      "source": [
        "## **Tests: Scoring Models Linear vs. Ridge vs. Lasso**"
      ]
    },
    {
      "cell_type": "code",
      "metadata": {
        "id": "qfsTJq2KGUvh",
        "colab": {
          "base_uri": "https://localhost:8080/"
        },
        "outputId": "76d42e60-dc4c-4e5a-a755-3705507736b6"
      },
      "source": [
        "from sklearn.metrics import mean_squared_error,mean_absolute_error,r2_score\n",
        "df_pred = ln_reg.predict(val_x)\n",
        "print('Mean absolute error of linear regression:',mean_absolute_error(df_pred,val_y))\n",
        "print('Mean square error of linear regression:',mean_squared_error(df_pred,val_y))\n",
        "print('R_squared score of linear regression:',r2_score(df_pred,val_y))"
      ],
      "execution_count": null,
      "outputs": [
        {
          "output_type": "stream",
          "text": [
            "Mean absolute error of linear regression: 285.00762317925364\n",
            "Mean square error of linear regression: 156139.69151205957\n",
            "R_squared score of linear regression: -2.4869745241538777\n"
          ],
          "name": "stdout"
        }
      ]
    },
    {
      "cell_type": "code",
      "metadata": {
        "id": "tP8JjBHIIZWW",
        "colab": {
          "base_uri": "https://localhost:8080/"
        },
        "outputId": "01cfa490-0825-4f28-df1a-e2e5bb1d2abf"
      },
      "source": [
        "df_test.shape"
      ],
      "execution_count": null,
      "outputs": [
        {
          "output_type": "execute_result",
          "data": {
            "text/plain": [
              "(17520, 3)"
            ]
          },
          "metadata": {
            "tags": []
          },
          "execution_count": 44
        }
      ]
    },
    {
      "cell_type": "code",
      "metadata": {
        "id": "mFA4saKTG22s",
        "colab": {
          "base_uri": "https://localhost:8080/"
        },
        "outputId": "2403a61c-f43f-4fac-8af3-eab2426fb096"
      },
      "source": [
        "predict_test = ln_reg.predict(df_test)\n",
        "print(predict_test)\n",
        "df_pred = pd.DataFrame(df_pred)\n",
        "print(df_pred)"
      ],
      "execution_count": null,
      "outputs": [
        {
          "output_type": "stream",
          "text": [
            "[345.35094944 351.65135262 354.11295452 ... 740.90817492 741.09693654\n",
            " 744.2028497 ]\n",
            "                0\n",
            "0      664.297695\n",
            "1     1042.681335\n",
            "2      966.577365\n",
            "3      672.301506\n",
            "4      999.402448\n",
            "...           ...\n",
            "4375   557.331815\n",
            "4376   777.643353\n",
            "4377   695.274215\n",
            "4378  1025.048002\n",
            "4379   961.193704\n",
            "\n",
            "[4380 rows x 1 columns]\n"
          ],
          "name": "stdout"
        }
      ]
    },
    {
      "cell_type": "code",
      "metadata": {
        "colab": {
          "base_uri": "https://localhost:8080/",
          "height": 416
        },
        "id": "thIwo16iRgFo",
        "outputId": "764dc20a-79f2-462f-af34-01a279075af7"
      },
      "source": [
        "submission_data = pd.DataFrame({'Predicted_Rented_Bike_Count':predict_test})\n",
        "submission_data\n",
        "\n"
      ],
      "execution_count": null,
      "outputs": [
        {
          "output_type": "execute_result",
          "data": {
            "text/html": [
              "<div>\n",
              "<style scoped>\n",
              "    .dataframe tbody tr th:only-of-type {\n",
              "        vertical-align: middle;\n",
              "    }\n",
              "\n",
              "    .dataframe tbody tr th {\n",
              "        vertical-align: top;\n",
              "    }\n",
              "\n",
              "    .dataframe thead th {\n",
              "        text-align: right;\n",
              "    }\n",
              "</style>\n",
              "<table border=\"1\" class=\"dataframe\">\n",
              "  <thead>\n",
              "    <tr style=\"text-align: right;\">\n",
              "      <th></th>\n",
              "      <th>Predicted_Rented_Bike_Count</th>\n",
              "    </tr>\n",
              "  </thead>\n",
              "  <tbody>\n",
              "    <tr>\n",
              "      <th>0</th>\n",
              "      <td>345.350949</td>\n",
              "    </tr>\n",
              "    <tr>\n",
              "      <th>1</th>\n",
              "      <td>351.651353</td>\n",
              "    </tr>\n",
              "    <tr>\n",
              "      <th>2</th>\n",
              "      <td>354.112955</td>\n",
              "    </tr>\n",
              "    <tr>\n",
              "      <th>3</th>\n",
              "      <td>361.764548</td>\n",
              "    </tr>\n",
              "    <tr>\n",
              "      <th>4</th>\n",
              "      <td>391.867206</td>\n",
              "    </tr>\n",
              "    <tr>\n",
              "      <th>...</th>\n",
              "      <td>...</td>\n",
              "    </tr>\n",
              "    <tr>\n",
              "      <th>17515</th>\n",
              "      <td>757.729156</td>\n",
              "    </tr>\n",
              "    <tr>\n",
              "      <th>17516</th>\n",
              "      <td>747.045825</td>\n",
              "    </tr>\n",
              "    <tr>\n",
              "      <th>17517</th>\n",
              "      <td>740.908175</td>\n",
              "    </tr>\n",
              "    <tr>\n",
              "      <th>17518</th>\n",
              "      <td>741.096937</td>\n",
              "    </tr>\n",
              "    <tr>\n",
              "      <th>17519</th>\n",
              "      <td>744.202850</td>\n",
              "    </tr>\n",
              "  </tbody>\n",
              "</table>\n",
              "<p>17520 rows × 1 columns</p>\n",
              "</div>"
            ],
            "text/plain": [
              "       Predicted_Rented_Bike_Count\n",
              "0                       345.350949\n",
              "1                       351.651353\n",
              "2                       354.112955\n",
              "3                       361.764548\n",
              "4                       391.867206\n",
              "...                            ...\n",
              "17515                   757.729156\n",
              "17516                   747.045825\n",
              "17517                   740.908175\n",
              "17518                   741.096937\n",
              "17519                   744.202850\n",
              "\n",
              "[17520 rows x 1 columns]"
            ]
          },
          "metadata": {
            "tags": []
          },
          "execution_count": 39
        }
      ]
    },
    {
      "cell_type": "code",
      "metadata": {
        "colab": {
          "base_uri": "https://localhost:8080/",
          "height": 416
        },
        "id": "4PZKB9XtSfml",
        "outputId": "caed5180-d462-4983-e875-5004e4b8325b"
      },
      "source": [
        "val_yy=pd.DataFrame(val_y)\n",
        "val_yy['Predicted'] = submission_data['Predicted_Rented_Bike_Count']\n",
        "val_yy"
      ],
      "execution_count": null,
      "outputs": [
        {
          "output_type": "execute_result",
          "data": {
            "text/html": [
              "<div>\n",
              "<style scoped>\n",
              "    .dataframe tbody tr th:only-of-type {\n",
              "        vertical-align: middle;\n",
              "    }\n",
              "\n",
              "    .dataframe tbody tr th {\n",
              "        vertical-align: top;\n",
              "    }\n",
              "\n",
              "    .dataframe thead th {\n",
              "        text-align: right;\n",
              "    }\n",
              "</style>\n",
              "<table border=\"1\" class=\"dataframe\">\n",
              "  <thead>\n",
              "    <tr style=\"text-align: right;\">\n",
              "      <th></th>\n",
              "      <th>Rented Bike Count</th>\n",
              "      <th>Predicted</th>\n",
              "    </tr>\n",
              "  </thead>\n",
              "  <tbody>\n",
              "    <tr>\n",
              "      <th>112</th>\n",
              "      <td>435.000000</td>\n",
              "      <td>664.297695</td>\n",
              "    </tr>\n",
              "    <tr>\n",
              "      <th>6286</th>\n",
              "      <td>1546.000000</td>\n",
              "      <td>1042.681335</td>\n",
              "    </tr>\n",
              "    <tr>\n",
              "      <th>15757</th>\n",
              "      <td>704.602055</td>\n",
              "      <td>966.577365</td>\n",
              "    </tr>\n",
              "    <tr>\n",
              "      <th>3451</th>\n",
              "      <td>50.000000</td>\n",
              "      <td>672.301506</td>\n",
              "    </tr>\n",
              "    <tr>\n",
              "      <th>7145</th>\n",
              "      <td>1442.000000</td>\n",
              "      <td>999.402448</td>\n",
              "    </tr>\n",
              "    <tr>\n",
              "      <th>...</th>\n",
              "      <td>...</td>\n",
              "      <td>...</td>\n",
              "    </tr>\n",
              "    <tr>\n",
              "      <th>11886</th>\n",
              "      <td>704.602055</td>\n",
              "      <td>557.331815</td>\n",
              "    </tr>\n",
              "    <tr>\n",
              "      <th>13729</th>\n",
              "      <td>704.602055</td>\n",
              "      <td>777.643353</td>\n",
              "    </tr>\n",
              "    <tr>\n",
              "      <th>1103</th>\n",
              "      <td>230.000000</td>\n",
              "      <td>695.274215</td>\n",
              "    </tr>\n",
              "    <tr>\n",
              "      <th>3593</th>\n",
              "      <td>2094.000000</td>\n",
              "      <td>1025.048002</td>\n",
              "    </tr>\n",
              "    <tr>\n",
              "      <th>12305</th>\n",
              "      <td>704.602055</td>\n",
              "      <td>961.193704</td>\n",
              "    </tr>\n",
              "  </tbody>\n",
              "</table>\n",
              "<p>4380 rows × 2 columns</p>\n",
              "</div>"
            ],
            "text/plain": [
              "       Rented Bike Count    Predicted\n",
              "112           435.000000   664.297695\n",
              "6286         1546.000000  1042.681335\n",
              "15757         704.602055   966.577365\n",
              "3451           50.000000   672.301506\n",
              "7145         1442.000000   999.402448\n",
              "...                  ...          ...\n",
              "11886         704.602055   557.331815\n",
              "13729         704.602055   777.643353\n",
              "1103          230.000000   695.274215\n",
              "3593         2094.000000  1025.048002\n",
              "12305         704.602055   961.193704\n",
              "\n",
              "[4380 rows x 2 columns]"
            ]
          },
          "metadata": {
            "tags": []
          },
          "execution_count": 40
        }
      ]
    },
    {
      "cell_type": "markdown",
      "metadata": {
        "id": "jWp5iAYAVOkO"
      },
      "source": [
        "## **Ridge L2**"
      ]
    },
    {
      "cell_type": "code",
      "metadata": {
        "colab": {
          "base_uri": "https://localhost:8080/"
        },
        "id": "4QBTLwEWUXSq",
        "outputId": "db280895-2a8f-44d4-f2e0-21f9c42c4813"
      },
      "source": [
        "from sklearn.linear_model import Ridge\n",
        "ridge = Ridge()\n",
        "ridge"
      ],
      "execution_count": null,
      "outputs": [
        {
          "output_type": "execute_result",
          "data": {
            "text/plain": [
              "Ridge(alpha=1.0, copy_X=True, fit_intercept=True, max_iter=None,\n",
              "      normalize=False, random_state=None, solver='auto', tol=0.001)"
            ]
          },
          "metadata": {
            "tags": []
          },
          "execution_count": 46
        }
      ]
    },
    {
      "cell_type": "code",
      "metadata": {
        "colab": {
          "base_uri": "https://localhost:8080/"
        },
        "id": "iB7UR5wnUd7f",
        "outputId": "a85a4e34-4156-4b01-8170-8fa2eacb7747"
      },
      "source": [
        "from sklearn.linear_model import Ridge\n",
        "ridge = Ridge()\n",
        "\n",
        "ridge.fit(train_x,train_y)\n",
        "ridge_score = ridge.score(val_x,val_y)\n",
        "coeff_used = np.sum(ridge.coef_ !=0)\n",
        "ridge.coef_\n",
        "\n",
        "print(\"Training score:\",ridge_score)\n",
        "print(\"Number of feature used:\",coeff_used)"
      ],
      "execution_count": null,
      "outputs": [
        {
          "output_type": "stream",
          "text": [
            "Training score: 0.22901703742377577\n",
            "Number of feature used: 3\n"
          ],
          "name": "stdout"
        }
      ]
    },
    {
      "cell_type": "markdown",
      "metadata": {
        "id": "Tg00fa00VRbA"
      },
      "source": [
        "## **Lasso L1**"
      ]
    },
    {
      "cell_type": "code",
      "metadata": {
        "colab": {
          "base_uri": "https://localhost:8080/"
        },
        "id": "AXkRdKPEVVEZ",
        "outputId": "3d4fabc5-d44d-4f31-cb32-57d0aaa7e84c"
      },
      "source": [
        "from sklearn.linear_model import Lasso\n",
        "lasso = Lasso()\n",
        "lasso"
      ],
      "execution_count": null,
      "outputs": [
        {
          "output_type": "execute_result",
          "data": {
            "text/plain": [
              "Lasso(alpha=1.0, copy_X=True, fit_intercept=True, max_iter=1000,\n",
              "      normalize=False, positive=False, precompute=False, random_state=None,\n",
              "      selection='cyclic', tol=0.0001, warm_start=False)"
            ]
          },
          "metadata": {
            "tags": []
          },
          "execution_count": 51
        }
      ]
    },
    {
      "cell_type": "code",
      "metadata": {
        "colab": {
          "base_uri": "https://localhost:8080/"
        },
        "id": "7tzzDY-wVZ9q",
        "outputId": "c9511a4a-4766-42f7-ee7b-9e99564a32e3"
      },
      "source": [
        "from sklearn.linear_model import Lasso\n",
        "lasso = Lasso()\n",
        "lasso\n",
        "\n",
        "lasso.fit(train_x, train_y)\n",
        "lasso_score = lasso.score(val_x,val_y)\n",
        "coeff_used = np.sum(lasso.coef_ !=0)\n",
        "lasso.coef_"
      ],
      "execution_count": null,
      "outputs": [
        {
          "output_type": "execute_result",
          "data": {
            "text/plain": [
              "array([ 13.75846715,  24.80023596, -11.29486921])"
            ]
          },
          "metadata": {
            "tags": []
          },
          "execution_count": 52
        }
      ]
    },
    {
      "cell_type": "code",
      "metadata": {
        "colab": {
          "base_uri": "https://localhost:8080/"
        },
        "id": "FB2pNQoEVoaD",
        "outputId": "a0559130-8814-47ca-a0db-626608247e2b"
      },
      "source": [
        "print('Training score:', lasso_score)\n",
        "print('Number of features used:',coeff_used)"
      ],
      "execution_count": null,
      "outputs": [
        {
          "output_type": "stream",
          "text": [
            "Training score: 0.22898636278165996\n",
            "Number of features used: 3\n"
          ],
          "name": "stdout"
        }
      ]
    },
    {
      "cell_type": "markdown",
      "metadata": {
        "id": "yh1K1RdiWrpR"
      },
      "source": [
        "#Conclusion\n"
      ]
    }
  ]
}